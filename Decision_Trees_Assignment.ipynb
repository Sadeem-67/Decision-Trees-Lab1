{
 "cells": [
  {
   "cell_type": "markdown",
   "id": "d985f77b",
   "metadata": {},
   "source": [
    "|  Column name  |  Description  |\n",
    "| ----- | ------- |\n",
    "| Num_posts        | Number of total posts that the user has ever posted   |\n",
    "| Num_following    | Number of following                                   |\n",
    "| Num_followers    | Number of followers                                   |\n",
    "| Biography_length | Length (number of characters) of the user's biography |\n",
    "| Picture_availability | Value 0 if the user has no profile picture, or 1 if has |\n",
    "| Link_availability| Value 0 if the user has no external URL, or 1 if has |\n",
    "| Average_caption_length | The average number of character of captions in media |\n",
    "| Caption_zero     | Percentage (0.0 to 1.0) of captions that has almost zero (<=3) length |\n",
    "| Non_image_percentage | Percentage (0.0 to 1.0) of non-image media. There are three types of media on an Instagram post, i.e. image, video, carousel\n",
    "| Engagement_rate_like | Engagement rate (ER) is commonly defined as (num likes) divide by (num media) divide by (num followers)\n",
    "| Engagement_rate_comment | Similar to ER like, but it is for comments |\n",
    "| Location_tag_percentage | Percentage (0.0 to 1.0) of posts tagged with location |\n",
    "| Average_hashtag_count   | Average number of hashtags used in a post |\n",
    "| Promotional_keywords | Average use of promotional keywords in hashtag, i.e. regrann, contest, repost, giveaway, mention, share, give away, quiz |\n",
    "| Followers_keywords | Average use of followers hunter keywords in hashtag, i.e. follow, like, folback, follback, f4f|\n",
    "| Cosine_similarity  | Average cosine similarity of between all pair of two posts a user has |\n",
    "| Post_interval      | Average interval between posts (in hours) |\n",
    "| real_fake          | r (real/authentic user), f (fake user/bought followers) |"
   ]
  },
  {
   "cell_type": "markdown",
   "id": "0589474a",
   "metadata": {},
   "source": [
    "# Q1: Import labraries"
   ]
  },
  {
   "cell_type": "code",
   "execution_count": 1,
   "id": "13f00a6a",
   "metadata": {},
   "outputs": [],
   "source": [
    "# write your code here ^_^\n",
    "import pandas as pd\n",
    "import matplotlib.pyplot as plt \n",
    "import numpy as np\n",
    "import seaborn as sns\n",
    "from sklearn.model_selection import train_test_split\n",
    "from sklearn.tree import DecisionTreeClassifier\n",
    "from sklearn.linear_model import LogisticRegression\n",
    "from sklearn.ensemble import RandomForestClassifier\n",
    "from sklearn.metrics import accuracy_score,confusion_matrix\n",
    "# do not show warnings\n",
    "import warnings\n",
    "warnings.filterwarnings(\"ignore\")"
   ]
  },
  {
   "cell_type": "markdown",
   "id": "fc2557da",
   "metadata": {},
   "source": [
    "# Q2: Read instagram_users.csv file"
   ]
  },
  {
   "cell_type": "code",
   "execution_count": 2,
   "id": "f7c3f583",
   "metadata": {},
   "outputs": [],
   "source": [
    "# write your code here ^_^\n",
    "file = pd.read_csv('instagram_users.csv')"
   ]
  },
  {
   "cell_type": "code",
   "execution_count": 3,
   "id": "746b839a-106b-467d-bbde-b5653add2856",
   "metadata": {},
   "outputs": [
    {
     "data": {
      "text/html": [
       "<div>\n",
       "<style scoped>\n",
       "    .dataframe tbody tr th:only-of-type {\n",
       "        vertical-align: middle;\n",
       "    }\n",
       "\n",
       "    .dataframe tbody tr th {\n",
       "        vertical-align: top;\n",
       "    }\n",
       "\n",
       "    .dataframe thead th {\n",
       "        text-align: right;\n",
       "    }\n",
       "</style>\n",
       "<table border=\"1\" class=\"dataframe\">\n",
       "  <thead>\n",
       "    <tr style=\"text-align: right;\">\n",
       "      <th></th>\n",
       "      <th>Num_posts</th>\n",
       "      <th>Num_following</th>\n",
       "      <th>Num_followers</th>\n",
       "      <th>Biography_length</th>\n",
       "      <th>Picture_availability</th>\n",
       "      <th>Link_availability</th>\n",
       "      <th>Average_caption_length</th>\n",
       "      <th>Caption_zero</th>\n",
       "      <th>Non_image_percentage</th>\n",
       "      <th>Engagement_rate_like</th>\n",
       "      <th>Engagement_rate_comment</th>\n",
       "      <th>Location_tag_percentage</th>\n",
       "      <th>Average_hashtag_count</th>\n",
       "      <th>Promotional_keywords</th>\n",
       "      <th>Followers_keywords</th>\n",
       "      <th>Cosine_similarity</th>\n",
       "      <th>Post_interval</th>\n",
       "      <th>real_fake</th>\n",
       "    </tr>\n",
       "  </thead>\n",
       "  <tbody>\n",
       "    <tr>\n",
       "      <th>0</th>\n",
       "      <td>44</td>\n",
       "      <td>48</td>\n",
       "      <td>325</td>\n",
       "      <td>33</td>\n",
       "      <td>1</td>\n",
       "      <td>0</td>\n",
       "      <td>12</td>\n",
       "      <td>0.000000</td>\n",
       "      <td>0.000</td>\n",
       "      <td>0.000000</td>\n",
       "      <td>0.00</td>\n",
       "      <td>0.000</td>\n",
       "      <td>0.000</td>\n",
       "      <td>0.0</td>\n",
       "      <td>0.000</td>\n",
       "      <td>0.111111</td>\n",
       "      <td>0.094985</td>\n",
       "      <td>fake</td>\n",
       "    </tr>\n",
       "    <tr>\n",
       "      <th>1</th>\n",
       "      <td>10</td>\n",
       "      <td>66</td>\n",
       "      <td>321</td>\n",
       "      <td>150</td>\n",
       "      <td>1</td>\n",
       "      <td>0</td>\n",
       "      <td>213</td>\n",
       "      <td>0.000000</td>\n",
       "      <td>1.000</td>\n",
       "      <td>14.390000</td>\n",
       "      <td>1.97</td>\n",
       "      <td>0.000</td>\n",
       "      <td>1.500</td>\n",
       "      <td>0.0</td>\n",
       "      <td>0.000</td>\n",
       "      <td>0.206826</td>\n",
       "      <td>230.412857</td>\n",
       "      <td>fake</td>\n",
       "    </tr>\n",
       "    <tr>\n",
       "      <th>2</th>\n",
       "      <td>33</td>\n",
       "      <td>970</td>\n",
       "      <td>308</td>\n",
       "      <td>101</td>\n",
       "      <td>1</td>\n",
       "      <td>1</td>\n",
       "      <td>436</td>\n",
       "      <td>0.000000</td>\n",
       "      <td>1.000</td>\n",
       "      <td>10.100000</td>\n",
       "      <td>0.30</td>\n",
       "      <td>0.000</td>\n",
       "      <td>2.500</td>\n",
       "      <td>0.0</td>\n",
       "      <td>0.056</td>\n",
       "      <td>0.572174</td>\n",
       "      <td>43.569939</td>\n",
       "      <td>fake</td>\n",
       "    </tr>\n",
       "    <tr>\n",
       "      <th>3</th>\n",
       "      <td>70</td>\n",
       "      <td>86</td>\n",
       "      <td>360</td>\n",
       "      <td>14</td>\n",
       "      <td>1</td>\n",
       "      <td>0</td>\n",
       "      <td>0</td>\n",
       "      <td>1.000000</td>\n",
       "      <td>0.000</td>\n",
       "      <td>0.780000</td>\n",
       "      <td>0.06</td>\n",
       "      <td>0.000</td>\n",
       "      <td>0.000</td>\n",
       "      <td>0.0</td>\n",
       "      <td>0.000</td>\n",
       "      <td>1.000000</td>\n",
       "      <td>5.859799</td>\n",
       "      <td>fake</td>\n",
       "    </tr>\n",
       "    <tr>\n",
       "      <th>4</th>\n",
       "      <td>3</td>\n",
       "      <td>21</td>\n",
       "      <td>285</td>\n",
       "      <td>73</td>\n",
       "      <td>1</td>\n",
       "      <td>0</td>\n",
       "      <td>93</td>\n",
       "      <td>0.000000</td>\n",
       "      <td>0.000</td>\n",
       "      <td>14.290000</td>\n",
       "      <td>0.00</td>\n",
       "      <td>0.667</td>\n",
       "      <td>0.000</td>\n",
       "      <td>0.0</td>\n",
       "      <td>0.000</td>\n",
       "      <td>0.300494</td>\n",
       "      <td>0.126019</td>\n",
       "      <td>fake</td>\n",
       "    </tr>\n",
       "    <tr>\n",
       "      <th>...</th>\n",
       "      <td>...</td>\n",
       "      <td>...</td>\n",
       "      <td>...</td>\n",
       "      <td>...</td>\n",
       "      <td>...</td>\n",
       "      <td>...</td>\n",
       "      <td>...</td>\n",
       "      <td>...</td>\n",
       "      <td>...</td>\n",
       "      <td>...</td>\n",
       "      <td>...</td>\n",
       "      <td>...</td>\n",
       "      <td>...</td>\n",
       "      <td>...</td>\n",
       "      <td>...</td>\n",
       "      <td>...</td>\n",
       "      <td>...</td>\n",
       "      <td>...</td>\n",
       "    </tr>\n",
       "    <tr>\n",
       "      <th>64239</th>\n",
       "      <td>13</td>\n",
       "      <td>145</td>\n",
       "      <td>642</td>\n",
       "      <td>0</td>\n",
       "      <td>1</td>\n",
       "      <td>0</td>\n",
       "      <td>7</td>\n",
       "      <td>0.461538</td>\n",
       "      <td>0.000</td>\n",
       "      <td>14.270000</td>\n",
       "      <td>0.58</td>\n",
       "      <td>0.000</td>\n",
       "      <td>0.077</td>\n",
       "      <td>0.0</td>\n",
       "      <td>0.000</td>\n",
       "      <td>0.192308</td>\n",
       "      <td>1745.291260</td>\n",
       "      <td>real</td>\n",
       "    </tr>\n",
       "    <tr>\n",
       "      <th>64240</th>\n",
       "      <td>652</td>\n",
       "      <td>3000</td>\n",
       "      <td>1300</td>\n",
       "      <td>146</td>\n",
       "      <td>1</td>\n",
       "      <td>1</td>\n",
       "      <td>384</td>\n",
       "      <td>0.000000</td>\n",
       "      <td>0.389</td>\n",
       "      <td>8.520000</td>\n",
       "      <td>0.13</td>\n",
       "      <td>0.000</td>\n",
       "      <td>1.611</td>\n",
       "      <td>0.0</td>\n",
       "      <td>0.000</td>\n",
       "      <td>0.169917</td>\n",
       "      <td>54.629120</td>\n",
       "      <td>real</td>\n",
       "    </tr>\n",
       "    <tr>\n",
       "      <th>64241</th>\n",
       "      <td>1500</td>\n",
       "      <td>3700</td>\n",
       "      <td>3200</td>\n",
       "      <td>147</td>\n",
       "      <td>1</td>\n",
       "      <td>1</td>\n",
       "      <td>129</td>\n",
       "      <td>0.000000</td>\n",
       "      <td>0.111</td>\n",
       "      <td>9.390000</td>\n",
       "      <td>0.31</td>\n",
       "      <td>0.722</td>\n",
       "      <td>0.000</td>\n",
       "      <td>0.0</td>\n",
       "      <td>0.056</td>\n",
       "      <td>0.058908</td>\n",
       "      <td>129.802048</td>\n",
       "      <td>real</td>\n",
       "    </tr>\n",
       "    <tr>\n",
       "      <th>64242</th>\n",
       "      <td>329</td>\n",
       "      <td>1500</td>\n",
       "      <td>1800</td>\n",
       "      <td>218</td>\n",
       "      <td>1</td>\n",
       "      <td>1</td>\n",
       "      <td>290</td>\n",
       "      <td>0.055556</td>\n",
       "      <td>0.000</td>\n",
       "      <td>6.350000</td>\n",
       "      <td>0.26</td>\n",
       "      <td>0.222</td>\n",
       "      <td>0.500</td>\n",
       "      <td>0.0</td>\n",
       "      <td>0.000</td>\n",
       "      <td>0.103174</td>\n",
       "      <td>53.402840</td>\n",
       "      <td>real</td>\n",
       "    </tr>\n",
       "    <tr>\n",
       "      <th>64243</th>\n",
       "      <td>206</td>\n",
       "      <td>659</td>\n",
       "      <td>608</td>\n",
       "      <td>27</td>\n",
       "      <td>1</td>\n",
       "      <td>0</td>\n",
       "      <td>77</td>\n",
       "      <td>0.000000</td>\n",
       "      <td>0.333</td>\n",
       "      <td>25.549999</td>\n",
       "      <td>0.53</td>\n",
       "      <td>0.222</td>\n",
       "      <td>0.222</td>\n",
       "      <td>0.0</td>\n",
       "      <td>0.167</td>\n",
       "      <td>0.017505</td>\n",
       "      <td>604.981445</td>\n",
       "      <td>real</td>\n",
       "    </tr>\n",
       "  </tbody>\n",
       "</table>\n",
       "<p>64244 rows × 18 columns</p>\n",
       "</div>"
      ],
      "text/plain": [
       "        Num_posts  Num_following  Num_followers  Biography_length  \\\n",
       "0              44             48            325                33   \n",
       "1              10             66            321               150   \n",
       "2              33            970            308               101   \n",
       "3              70             86            360                14   \n",
       "4               3             21            285                73   \n",
       "...           ...            ...            ...               ...   \n",
       "64239          13            145            642                 0   \n",
       "64240         652           3000           1300               146   \n",
       "64241        1500           3700           3200               147   \n",
       "64242         329           1500           1800               218   \n",
       "64243         206            659            608                27   \n",
       "\n",
       "       Picture_availability  Link_availability  Average_caption_length  \\\n",
       "0                         1                  0                      12   \n",
       "1                         1                  0                     213   \n",
       "2                         1                  1                     436   \n",
       "3                         1                  0                       0   \n",
       "4                         1                  0                      93   \n",
       "...                     ...                ...                     ...   \n",
       "64239                     1                  0                       7   \n",
       "64240                     1                  1                     384   \n",
       "64241                     1                  1                     129   \n",
       "64242                     1                  1                     290   \n",
       "64243                     1                  0                      77   \n",
       "\n",
       "       Caption_zero  Non_image_percentage  Engagement_rate_like  \\\n",
       "0          0.000000                 0.000              0.000000   \n",
       "1          0.000000                 1.000             14.390000   \n",
       "2          0.000000                 1.000             10.100000   \n",
       "3          1.000000                 0.000              0.780000   \n",
       "4          0.000000                 0.000             14.290000   \n",
       "...             ...                   ...                   ...   \n",
       "64239      0.461538                 0.000             14.270000   \n",
       "64240      0.000000                 0.389              8.520000   \n",
       "64241      0.000000                 0.111              9.390000   \n",
       "64242      0.055556                 0.000              6.350000   \n",
       "64243      0.000000                 0.333             25.549999   \n",
       "\n",
       "       Engagement_rate_comment  Location_tag_percentage  \\\n",
       "0                         0.00                    0.000   \n",
       "1                         1.97                    0.000   \n",
       "2                         0.30                    0.000   \n",
       "3                         0.06                    0.000   \n",
       "4                         0.00                    0.667   \n",
       "...                        ...                      ...   \n",
       "64239                     0.58                    0.000   \n",
       "64240                     0.13                    0.000   \n",
       "64241                     0.31                    0.722   \n",
       "64242                     0.26                    0.222   \n",
       "64243                     0.53                    0.222   \n",
       "\n",
       "       Average_hashtag_count  Promotional_keywords  Followers_keywords  \\\n",
       "0                      0.000                   0.0               0.000   \n",
       "1                      1.500                   0.0               0.000   \n",
       "2                      2.500                   0.0               0.056   \n",
       "3                      0.000                   0.0               0.000   \n",
       "4                      0.000                   0.0               0.000   \n",
       "...                      ...                   ...                 ...   \n",
       "64239                  0.077                   0.0               0.000   \n",
       "64240                  1.611                   0.0               0.000   \n",
       "64241                  0.000                   0.0               0.056   \n",
       "64242                  0.500                   0.0               0.000   \n",
       "64243                  0.222                   0.0               0.167   \n",
       "\n",
       "       Cosine_similarity  Post_interval real_fake  \n",
       "0               0.111111       0.094985      fake  \n",
       "1               0.206826     230.412857      fake  \n",
       "2               0.572174      43.569939      fake  \n",
       "3               1.000000       5.859799      fake  \n",
       "4               0.300494       0.126019      fake  \n",
       "...                  ...            ...       ...  \n",
       "64239           0.192308    1745.291260      real  \n",
       "64240           0.169917      54.629120      real  \n",
       "64241           0.058908     129.802048      real  \n",
       "64242           0.103174      53.402840      real  \n",
       "64243           0.017505     604.981445      real  \n",
       "\n",
       "[64244 rows x 18 columns]"
      ]
     },
     "execution_count": 3,
     "metadata": {},
     "output_type": "execute_result"
    }
   ],
   "source": [
    "df=pd.DataFrame(file)\n",
    "df"
   ]
  },
  {
   "cell_type": "markdown",
   "id": "2fd48ba4",
   "metadata": {},
   "source": [
    "# Q3: Split tha dataset into training and testing"
   ]
  },
  {
   "cell_type": "code",
   "execution_count": 4,
   "id": "9e94233d",
   "metadata": {},
   "outputs": [],
   "source": [
    "# write your code here ^_^\n",
    "#data\n",
    "x = df.drop(['real_fake'], axis=1)\n",
    "#target\n",
    "y = df['real_fake']"
   ]
  },
  {
   "cell_type": "code",
   "execution_count": 5,
   "id": "f849a5f3-c4df-4aae-b30d-405026627b43",
   "metadata": {},
   "outputs": [],
   "source": [
    "x_train, x_test, y_train, y_test = train_test_split(x, y, test_size = 0.3, random_state = 42)"
   ]
  },
  {
   "cell_type": "markdown",
   "id": "6db25de6",
   "metadata": {},
   "source": [
    "# Q4: Build three machine models "
   ]
  },
  {
   "cell_type": "markdown",
   "id": "2a9943d1",
   "metadata": {},
   "source": [
    "## Q4.1: The first machine model\n",
    "- Print the model's name.\n",
    "- Print the model's accuracy.\n",
    "- Print the model's confusion matrix."
   ]
  },
  {
   "cell_type": "code",
   "execution_count": 8,
   "id": "0e8f4d29",
   "metadata": {},
   "outputs": [
    {
     "name": "stdout",
     "output_type": "stream",
     "text": [
      "RandomForestClassifier()\n"
     ]
    }
   ],
   "source": [
    "# write your code here ^_^\n",
    "rfmodel = RandomForestClassifier()\n",
    "print(rfmodel )"
   ]
  },
  {
   "cell_type": "code",
   "execution_count": 9,
   "id": "0dfb36db-8e9d-445f-9870-f0cf62c49234",
   "metadata": {},
   "outputs": [],
   "source": [
    "rfmodel.fit(x_train, y_train);\n",
    "ypredict = rfmodel.predict(x_test)"
   ]
  },
  {
   "cell_type": "code",
   "execution_count": 10,
   "id": "5bd4417d-bdb6-4bcb-b80a-cca674963e57",
   "metadata": {},
   "outputs": [
    {
     "name": "stdout",
     "output_type": "stream",
     "text": [
      "Train data accuracy: 0.9999777629530798\n",
      "Test data accuracy: 0.898256718895922\n"
     ]
    }
   ],
   "source": [
    "print(\"Train data accuracy:\",accuracy_score(y_true = y_train, y_pred=rfmodel.predict(x_train)))\n",
    "print(\"Test data accuracy:\",accuracy_score(y_true = y_test, y_pred=ypredict))"
   ]
  },
  {
   "cell_type": "code",
   "execution_count": 11,
   "id": "08d5311d-dc8b-43be-b05a-c3b7f84d7b0b",
   "metadata": {},
   "outputs": [
    {
     "name": "stdout",
     "output_type": "stream",
     "text": [
      "Confusion Matrix for traning data\n",
      "[[22268     0]\n",
      " [    1 22701]]\n",
      "Confusion Matrix for test data\n",
      "[[7968 1548]\n",
      " [ 413 9345]]\n"
     ]
    }
   ],
   "source": [
    "#Confusion Matrix\n",
    "print(\"Confusion Matrix for traning data\")\n",
    "print(confusion_matrix(y_train,rfmodel.predict(x_train)))\n",
    "print(\"Confusion Matrix for test data\")\n",
    "print(confusion_matrix(y_test,ypredict))"
   ]
  },
  {
   "cell_type": "markdown",
   "id": "55c11dc4",
   "metadata": {},
   "source": [
    "## Q4.2: The second machine model\n",
    "- Print the model's name.\n",
    "- Print the model's accuracy.\n",
    "- Print the model's confusion matrix."
   ]
  },
  {
   "cell_type": "code",
   "execution_count": 12,
   "id": "b37a0953",
   "metadata": {},
   "outputs": [
    {
     "name": "stdout",
     "output_type": "stream",
     "text": [
      "LogisticRegression()\n"
     ]
    }
   ],
   "source": [
    "# write your code here ^_^\n",
    "lmodel = LogisticRegression()\n",
    "print(lmodel)"
   ]
  },
  {
   "cell_type": "code",
   "execution_count": 13,
   "id": "755a1638-cbcf-40a6-b2a9-43882a0dd82c",
   "metadata": {},
   "outputs": [],
   "source": [
    "lmodel.fit(x_train,y_train)\n",
    "lypredict = lmodel.predict(x_test)"
   ]
  },
  {
   "cell_type": "code",
   "execution_count": 14,
   "id": "02239ae4-e20c-4eed-8396-d29dd1910f6b",
   "metadata": {},
   "outputs": [
    {
     "name": "stdout",
     "output_type": "stream",
     "text": [
      "Train data accuracy: 0.7616633311096287\n",
      "Test data accuracy: 0.7602988481892705\n"
     ]
    }
   ],
   "source": [
    "# predict accuracy score\n",
    "print(\"Train data accuracy:\",accuracy_score(y_true = y_train, y_pred=lmodel.predict(x_train)))\n",
    "print(\"Test data accuracy:\",accuracy_score(y_true = y_test, y_pred=lypredict))"
   ]
  },
  {
   "cell_type": "code",
   "execution_count": 15,
   "id": "8f7fb01c-7bbe-40ce-90a6-b5218cba6c4b",
   "metadata": {},
   "outputs": [
    {
     "name": "stdout",
     "output_type": "stream",
     "text": [
      "Confusion Matrix for traning data\n",
      "[[15523  6745]\n",
      " [ 3973 18729]]\n",
      "Confusion Matrix for test data\n",
      "[[6614 2902]\n",
      " [1718 8040]]\n"
     ]
    }
   ],
   "source": [
    "#Confusion Matrix\n",
    "print(\"Confusion Matrix for traning data\")\n",
    "print(confusion_matrix(y_train,lmodel.predict(x_train)))\n",
    "print(\"Confusion Matrix for test data\")\n",
    "print(confusion_matrix(y_test,lypredict))"
   ]
  },
  {
   "cell_type": "markdown",
   "id": "311f9f19",
   "metadata": {},
   "source": [
    "## Q4.3: The third machine model\n",
    "- Print the model's name.\n",
    "- Print the model's accuracy.\n",
    "- Print the model's confusion matrix."
   ]
  },
  {
   "cell_type": "code",
   "execution_count": 16,
   "id": "f73c0c18",
   "metadata": {},
   "outputs": [
    {
     "name": "stdout",
     "output_type": "stream",
     "text": [
      "DecisionTreeClassifier()\n"
     ]
    }
   ],
   "source": [
    "# write your code here ^_^\n",
    "dtmodel = DecisionTreeClassifier()\n",
    "print(dtmodel)"
   ]
  },
  {
   "cell_type": "code",
   "execution_count": 17,
   "id": "41717e99-141c-4bbb-bfa4-3b7925c82d02",
   "metadata": {},
   "outputs": [],
   "source": [
    "dtmodel.fit(x_train,y_train)\n",
    "dtypredict = dtmodel.predict(x_test)"
   ]
  },
  {
   "cell_type": "code",
   "execution_count": 18,
   "id": "31871ff0-1057-46ad-8e92-0ce6bb0c752d",
   "metadata": {},
   "outputs": [
    {
     "name": "stdout",
     "output_type": "stream",
     "text": [
      "Train data accuracy: 0.9999777629530798\n",
      "Test data accuracy: 0.8517692227871745\n"
     ]
    }
   ],
   "source": [
    "# predict accuracy score\n",
    "print(\"Train data accuracy:\",accuracy_score(y_true = y_train, y_pred=dtmodel.predict(x_train)))\n",
    "print(\"Test data accuracy:\",accuracy_score(y_true = y_test, y_pred=dtypredict))"
   ]
  },
  {
   "cell_type": "code",
   "execution_count": 19,
   "id": "5626b198-f08e-4c02-a7fc-c43444d99103",
   "metadata": {},
   "outputs": [
    {
     "name": "stdout",
     "output_type": "stream",
     "text": [
      "Confusion Matrix for traning data\n",
      "[[22268     0]\n",
      " [    1 22701]]\n",
      "Confusion Matrix for test data\n",
      "[[8134 1382]\n",
      " [1475 8283]]\n"
     ]
    }
   ],
   "source": [
    "#Confusion Matrix\n",
    "print(\"Confusion Matrix for traning data\")\n",
    "print(confusion_matrix(y_train,dtmodel.predict(x_train)))\n",
    "print(\"Confusion Matrix for test data\")\n",
    "print(confusion_matrix(y_test,dtypredict))"
   ]
  },
  {
   "cell_type": "code",
   "execution_count": null,
   "id": "b6898c57-2b4d-4506-a527-32de2690fa06",
   "metadata": {},
   "outputs": [],
   "source": []
  }
 ],
 "metadata": {
  "kernelspec": {
   "display_name": "Python 3 (ipykernel)",
   "language": "python",
   "name": "python3"
  },
  "language_info": {
   "codemirror_mode": {
    "name": "ipython",
    "version": 3
   },
   "file_extension": ".py",
   "mimetype": "text/x-python",
   "name": "python",
   "nbconvert_exporter": "python",
   "pygments_lexer": "ipython3",
   "version": "3.9.13"
  }
 },
 "nbformat": 4,
 "nbformat_minor": 5
}
